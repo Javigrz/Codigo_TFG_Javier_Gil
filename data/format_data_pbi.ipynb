{
 "cells": [
  {
   "cell_type": "code",
   "execution_count": 2,
   "metadata": {},
   "outputs": [],
   "source": [
    "import pandas as pd\n",
    "import numpy as np"
   ]
  },
  {
   "cell_type": "code",
   "execution_count": 3,
   "metadata": {},
   "outputs": [],
   "source": [
    "def format(path):\n",
    "    df = pd.read_csv(path)\n",
    "    df['Positivo'] = np.where(df['sentiment'] == 1, 1, 0)\n",
    "    df['Negativo'] = np.where(df['sentiment'] == -1, 1, 0)\n",
    "    df['Neutro'] = np.where(df['sentiment'] == 0, 1, 0)\n",
    "\n",
    "    df.to_csv(path, index=False)\n"
   ]
  },
  {
   "attachments": {},
   "cell_type": "markdown",
   "metadata": {},
   "source": [
    "# Politics"
   ]
  },
  {
   "cell_type": "code",
   "execution_count": 5,
   "metadata": {},
   "outputs": [],
   "source": [
    "format(\"./1 Politics/4chan/pol_4chan_comments.csv\")"
   ]
  },
  {
   "cell_type": "code",
   "execution_count": 7,
   "metadata": {},
   "outputs": [],
   "source": [
    "format(\"./1 Politics/redditPolitics/reddit_coments.csv\")\n",
    "format(\"./1 Politics/redditPolitics/reddit_publications.csv\")"
   ]
  },
  {
   "cell_type": "code",
   "execution_count": 5,
   "metadata": {},
   "outputs": [],
   "source": [
    "df = pd.read_csv('./1 Politics/redditPolitics/reddit_coments.csv')\n",
    "df1 = pd.read_csv('./1 Politics/redditPolitics/reddit_publications.csv')\n",
    "\n",
    "df['fecha'] = pd.to_datetime(df['fecha'], unit='s')\n",
    "df1['fecha_submission'] = pd.to_datetime(df1['fecha_submission'], unit='s')\n",
    "\n",
    "df.to_csv('./1 Politics/redditPolitics/reddit_coments.csv', index=False)\n",
    "df1.to_csv('./1 Politics/redditPolitics/reddit_publications.csv', index=False)"
   ]
  },
  {
   "cell_type": "code",
   "execution_count": 8,
   "metadata": {},
   "outputs": [],
   "source": [
    "format('./1 Politics/TrumpCampaign/Anouncement/yt_video_comments.csv')\n",
    "format('./1 Politics/TrumpCampaign/VictorySpeech/yt_video_comments.csv')"
   ]
  },
  {
   "attachments": {},
   "cell_type": "markdown",
   "metadata": {},
   "source": [
    "# Streaming"
   ]
  },
  {
   "cell_type": "code",
   "execution_count": 9,
   "metadata": {},
   "outputs": [],
   "source": [
    "format('./2 Streaming/Ibai/yt_video_comments.csv')"
   ]
  },
  {
   "attachments": {},
   "cell_type": "markdown",
   "metadata": {},
   "source": [
    "# Client Experience"
   ]
  },
  {
   "cell_type": "code",
   "execution_count": 10,
   "metadata": {},
   "outputs": [],
   "source": [
    "format('./3 Client Experience/Apple/reddit/reddit_coments.csv')\n",
    "format('./3 Client Experience/Apple/reddit/reddit_publications.csv')"
   ]
  },
  {
   "cell_type": "code",
   "execution_count": null,
   "metadata": {},
   "outputs": [],
   "source": [
    "df = pd.read_csv('./3 Client Experience/Apple/reddit/reddit_coments.csv')\n",
    "df1 = pd.read_csv('./3 Client Experience/Apple/reddit/reddit_publications.csv')\n",
    "\n",
    "df['fecha'] = pd.to_datetime(df['fecha'], unit='s')\n",
    "df1['fecha_submission'] = pd.to_datetime(df1['fecha_submission'], unit='s')\n",
    "\n",
    "df.to_csv('./3 Client Experience/Apple/reddit/reddit_coments.csv', index=False)\n",
    "df1.to_csv('./3 Client Experience/Apple/reddit/reddit_publications.csv', index=False)"
   ]
  },
  {
   "cell_type": "code",
   "execution_count": 11,
   "metadata": {},
   "outputs": [],
   "source": [
    "format('./3 Client Experience/Apple/YT_LaMMordida/yt_video_comments.csv')"
   ]
  }
 ],
 "metadata": {
  "kernelspec": {
   "display_name": "Python 3",
   "language": "python",
   "name": "python3"
  },
  "language_info": {
   "codemirror_mode": {
    "name": "ipython",
    "version": 3
   },
   "file_extension": ".py",
   "mimetype": "text/x-python",
   "name": "python",
   "nbconvert_exporter": "python",
   "pygments_lexer": "ipython3",
   "version": "3.11.9"
  },
  "orig_nbformat": 4
 },
 "nbformat": 4,
 "nbformat_minor": 2
}

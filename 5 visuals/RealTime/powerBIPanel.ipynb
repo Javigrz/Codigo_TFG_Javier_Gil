{
 "cells": [
  {
   "cell_type": "code",
   "execution_count": 24,
   "metadata": {},
   "outputs": [],
   "source": [
    "from datetime import datetime\n",
    "import requests\n",
    "import json\n",
    "import time\n",
    "import pandas as pd"
   ]
  },
  {
   "cell_type": "code",
   "execution_count": 25,
   "metadata": {},
   "outputs": [],
   "source": [
    "import sys\n",
    "\n",
    "sys.path.append('../../') \n",
    "\n",
    "from config.powerBI import URL, HEADERS_DELETE, URL_DELETE"
   ]
  },
  {
   "cell_type": "code",
   "execution_count": 26,
   "metadata": {},
   "outputs": [
    {
     "data": {
      "text/plain": [
       "' from YouTubeLiveAPI import LiveYouTubeComments '"
      ]
     },
     "execution_count": 26,
     "metadata": {},
     "output_type": "execute_result"
    }
   ],
   "source": [
    "\"\"\" from YouTubeLiveAPI import LiveYouTubeComments \"\"\""
   ]
  },
  {
   "cell_type": "code",
   "execution_count": 27,
   "metadata": {},
   "outputs": [
    {
     "data": {
      "text/plain": [
       "\" comments_updater = LiveYouTubeComments()\\n\\nlive_urls = [\\n    'https://www.youtube.com/watch?v=36YnV9STBqc',\\n] \""
      ]
     },
     "execution_count": 27,
     "metadata": {},
     "output_type": "execute_result"
    }
   ],
   "source": [
    "\"\"\" comments_updater = LiveYouTubeComments()\n",
    "\n",
    "live_urls = [\n",
    "    'https://www.youtube.com/watch?v=36YnV9STBqc',\n",
    "] \"\"\""
   ]
  },
  {
   "cell_type": "markdown",
   "metadata": {},
   "source": [
    "# Functions"
   ]
  },
  {
   "cell_type": "markdown",
   "metadata": {},
   "source": [
    "Get Bearer token to delete data on powerBI\n",
    "\n",
    "https://learn.microsoft.com/en-us/rest/api/power-bi/push-datasets/datasets-delete-rows#code-try-0\n",
    "<br>\n",
    "DatasetId: c88cd1bc-8f0a-4b15-9b8d-4413ffb93606 <br>\n",
    "tableName: RealTimeData"
   ]
  },
  {
   "cell_type": "code",
   "execution_count": 28,
   "metadata": {},
   "outputs": [],
   "source": [
    "def delete_data():\n",
    "    \n",
    "    deleteResponse = requests.delete(URL_DELETE, headers=HEADERS_DELETE)\n",
    "    print(f\"DELETE : {deleteResponse}\")\n",
    "\n",
    "    \"\"\" if deleteResponse.status_code == 200:\n",
    "        df = pd.read_csv(\"../Data/LiveYT/liveComments.csv\", sep=';')\n",
    "        df.drop(df.index, inplace=True)\n",
    "        df.to_csv('../Data/LiveYT/liveComments.csv', sep=';', index=False) \"\"\""
   ]
  },
  {
   "cell_type": "code",
   "execution_count": 29,
   "metadata": {},
   "outputs": [],
   "source": [
    "def push_data(data):\n",
    "    \n",
    "    print(data)\n",
    "    # post/push data to the streaming API\n",
    "    headers = {\n",
    "        \"Content-Type\": \"application/json\"\n",
    "        }\n",
    "    response = requests.request(\n",
    "        method=\"POST\",\n",
    "        url=URL,\n",
    "        headers=headers,\n",
    "        data=json.dumps(data)\n",
    "    )\n",
    "    print(f\"POST : {response}\")"
   ]
  },
  {
   "cell_type": "code",
   "execution_count": 60,
   "metadata": {},
   "outputs": [],
   "source": [
    "data0 = [\n",
    "{\n",
    "\"comment\" :\"hola\",\n",
    "\"positivo\" : 0,\n",
    "\"negativo\" : 1,\n",
    "\"id\" :\"1\"\n",
    "}\n",
    "]"
   ]
  },
  {
   "cell_type": "code",
   "execution_count": 61,
   "metadata": {},
   "outputs": [],
   "source": [
    "data1 = [\n",
    "{\n",
    "\"comment\" :\"que\",\n",
    "\"positivo\" : 1,\n",
    "\"negativo\" : 0,\n",
    "\"id\" :\"2\"\n",
    "}\n",
    "]"
   ]
  },
  {
   "cell_type": "code",
   "execution_count": 62,
   "metadata": {},
   "outputs": [],
   "source": [
    "data2 =[\n",
    "{\n",
    "\"comment\" :\"tal\",\n",
    "\"positivo\" : 1,\n",
    "\"negativo\" : 0,\n",
    "\"id\" :\"3\"\n",
    "}\n",
    "]"
   ]
  },
  {
   "cell_type": "code",
   "execution_count": 63,
   "metadata": {},
   "outputs": [],
   "source": [
    "data3 = [\n",
    "{\n",
    "\"comment\" :\"estas\",\n",
    "\"positivo\" : 1,\n",
    "\"negativo\" : 0,\n",
    "\"id\" :\"4\"\n",
    "}\n",
    "]"
   ]
  },
  {
   "cell_type": "code",
   "execution_count": 64,
   "metadata": {},
   "outputs": [
    {
     "name": "stdout",
     "output_type": "stream",
     "text": [
      "DELETE : <Response [200]>\n",
      "[{'comment': 'hola', 'positivo': 0, 'negativo': 1, 'id': '1'}]\n",
      "POST : <Response [200]>\n",
      "[{'comment': 'que', 'positivo': 1, 'negativo': 0, 'id': '2'}]\n",
      "POST : <Response [200]>\n",
      "[{'comment': 'tal', 'positivo': 1, 'negativo': 0, 'id': '3'}]\n",
      "POST : <Response [200]>\n",
      "[{'comment': 'estas', 'positivo': 1, 'negativo': 0, 'id': '4'}]\n",
      "POST : <Response [200]>\n"
     ]
    }
   ],
   "source": [
    "delete_data()\n",
    "push_data(data0)\n",
    "push_data(data1)\n",
    "push_data(data2)\n",
    "push_data(data3)"
   ]
  },
  {
   "cell_type": "code",
   "execution_count": 54,
   "metadata": {},
   "outputs": [
    {
     "name": "stdout",
     "output_type": "stream",
     "text": [
      "[{'comment': 'AAAAA555555', 'positivo': 0, 'negativo': 1, 'id': 'AAAAA555555'}]\n",
      "POST : <Response [200]>\n"
     ]
    }
   ],
   "source": [
    "push_data(data0)"
   ]
  },
  {
   "cell_type": "code",
   "execution_count": 32,
   "metadata": {},
   "outputs": [
    {
     "data": {
      "text/plain": [
       "' # copy \"Push URL\" from \"API Info\" in Power BI\\n\\nwhile True:\\n    data = comments_updater.update_comments(live_urls, limit=1)\\n\\n    print(data)\\n    # post/push data to the streaming API\\n    headers = {\\n        \"Content-Type\": \"application/json\"\\n        }\\n    response = requests.request(\\n        method=\"POST\",\\n        url=url,\\n        headers=headers,\\n        data=json.dumps(data)\\n    )\\n    print(f\"POST : {response}\") '"
      ]
     },
     "execution_count": 32,
     "metadata": {},
     "output_type": "execute_result"
    }
   ],
   "source": [
    "\"\"\" # copy \"Push URL\" from \"API Info\" in Power BI\n",
    "\n",
    "while True:\n",
    "    data = comments_updater.update_comments(live_urls, limit=1)\n",
    "\n",
    "    print(data)\n",
    "    # post/push data to the streaming API\n",
    "    headers = {\n",
    "        \"Content-Type\": \"application/json\"\n",
    "        }\n",
    "    response = requests.request(\n",
    "        method=\"POST\",\n",
    "        url=url,\n",
    "        headers=headers,\n",
    "        data=json.dumps(data)\n",
    "    )\n",
    "    print(f\"POST : {response}\") \"\"\""
   ]
  }
 ],
 "metadata": {
  "kernelspec": {
   "display_name": "Python 3",
   "language": "python",
   "name": "python3"
  },
  "language_info": {
   "codemirror_mode": {
    "name": "ipython",
    "version": 3
   },
   "file_extension": ".py",
   "mimetype": "text/x-python",
   "name": "python",
   "nbconvert_exporter": "python",
   "pygments_lexer": "ipython3",
   "version": "3.11.4"
  },
  "orig_nbformat": 4
 },
 "nbformat": 4,
 "nbformat_minor": 2
}

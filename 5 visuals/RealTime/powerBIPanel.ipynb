{
 "cells": [
  {
   "cell_type": "code",
   "execution_count": null,
   "metadata": {},
   "outputs": [],
   "source": [
    "from datetime import datetime\n",
    "import requests\n",
    "import json\n",
    "import time\n",
    "import pandas as pd"
   ]
  },
  {
   "cell_type": "code",
   "execution_count": null,
   "metadata": {},
   "outputs": [],
   "source": [
    "import sys\n",
    "\n",
    "sys.path.append('../../') \n",
    "\n",
    "from config.powerBI import URL, HEADERS_DELETE, URL_DELETE"
   ]
  },
  {
   "cell_type": "code",
   "execution_count": null,
   "metadata": {},
   "outputs": [],
   "source": [
    "from YouTubeLiveAPI import LiveYouTubeComments"
   ]
  },
  {
   "cell_type": "code",
   "execution_count": null,
   "metadata": {},
   "outputs": [],
   "source": [
    "comments_updater = LiveYouTubeComments()\n",
    "\n",
    "live_urls = [\n",
    "    'https://www.youtube.com/watch?v=36YnV9STBqc',\n",
    "]"
   ]
  },
  {
   "cell_type": "markdown",
   "metadata": {},
   "source": [
    "# Functions"
   ]
  },
  {
   "cell_type": "code",
   "execution_count": null,
   "metadata": {},
   "outputs": [],
   "source": [
    "def delete_data():\n",
    "    \n",
    "    deleteResponse = requests.delete(URL_DELETE, headers=HEADERS_DELETE)\n",
    "    print(f\"DELETE : {deleteResponse}\")\n",
    "\n",
    "    if deleteResponse.status_code == 200:\n",
    "        df = pd.read_csv(\"../../data/4 LiveYT/liveComments.csv\", sep=';')\n",
    "        df.drop(df.index, inplace=True)\n",
    "        df.to_csv('../../data/4 LiveYT/liveComments.csv', sep=';', index=False)"
   ]
  },
  {
   "cell_type": "code",
   "execution_count": null,
   "metadata": {},
   "outputs": [],
   "source": [
    "def push_data(data):\n",
    "    \n",
    "    print(data)\n",
    "    # post/push data to the streaming API\n",
    "    headers = {\n",
    "        \"Content-Type\": \"application/json\"\n",
    "        }\n",
    "    response = requests.request(\n",
    "        method=\"POST\",\n",
    "        url=URL,\n",
    "        headers=headers,\n",
    "        data=json.dumps(data)\n",
    "    )\n",
    "    print(f\"POST : {response}\")"
   ]
  },
  {
   "cell_type": "code",
   "execution_count": null,
   "metadata": {},
   "outputs": [],
   "source": [
    "delete_data()"
   ]
  },
  {
   "cell_type": "code",
   "execution_count": null,
   "metadata": {},
   "outputs": [],
   "source": [
    "# copy \"Push URL\" from \"API Info\" in Power BI\n",
    "\n",
    "while True:\n",
    "    data = comments_updater.update_comments(live_urls, limit=1)\n",
    "\n",
    "    print(data)\n",
    "    # post/push data to the streaming API\n",
    "    headers = {\n",
    "        \"Content-Type\": \"application/json\"\n",
    "        }\n",
    "    response = requests.request(\n",
    "        method=\"POST\",\n",
    "        url=URL,\n",
    "        headers=headers,\n",
    "        data=json.dumps(data)\n",
    "    )\n",
    "    print(f\"POST : {response}\")"
   ]
  }
 ],
 "metadata": {
  "kernelspec": {
   "display_name": "Python 3",
   "language": "python",
   "name": "python3"
  },
  "language_info": {
   "codemirror_mode": {
    "name": "ipython",
    "version": 3
   },
   "file_extension": ".py",
   "mimetype": "text/x-python",
   "name": "python",
   "nbconvert_exporter": "python",
   "pygments_lexer": "ipython3",
   "version": "3.11.4"
  },
  "orig_nbformat": 4
 },
 "nbformat": 4,
 "nbformat_minor": 2
}

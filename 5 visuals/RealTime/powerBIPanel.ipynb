{
 "cells": [
  {
   "cell_type": "code",
   "execution_count": 1,
   "metadata": {},
   "outputs": [],
   "source": [
    "from datetime import datetime\n",
    "import requests\n",
    "import json\n",
    "import time\n",
    "import pandas as pd"
   ]
  },
  {
   "cell_type": "code",
   "execution_count": 2,
   "metadata": {},
   "outputs": [],
   "source": [
    "from YouTubeLiveAPI import LiveYouTubeComments"
   ]
  },
  {
   "cell_type": "code",
   "execution_count": 3,
   "metadata": {},
   "outputs": [
    {
     "name": "stdout",
     "output_type": "stream",
     "text": [
      "WARNING:tensorflow:Layer lstm will not use cuDNN kernels since it doesn't meet the criteria. It will use a generic GPU kernel as fallback when running on GPU.\n"
     ]
    },
    {
     "name": "stderr",
     "output_type": "stream",
     "text": [
      "2023-07-24 15:56:15.660749: I metal_plugin/src/device/metal_device.cc:1154] Metal device set to: Apple M1 Pro\n",
      "2023-07-24 15:56:15.660769: I metal_plugin/src/device/metal_device.cc:296] systemMemory: 16.00 GB\n",
      "2023-07-24 15:56:15.660774: I metal_plugin/src/device/metal_device.cc:313] maxCacheSize: 5.33 GB\n",
      "2023-07-24 15:56:15.660834: I tensorflow/core/common_runtime/pluggable_device/pluggable_device_factory.cc:303] Could not identify NUMA node of platform GPU ID 0, defaulting to 0. Your kernel may not have been built with NUMA support.\n",
      "2023-07-24 15:56:15.660869: I tensorflow/core/common_runtime/pluggable_device/pluggable_device_factory.cc:269] Created TensorFlow device (/job:localhost/replica:0/task:0/device:GPU:0 with 0 MB memory) -> physical PluggableDevice (device: 0, name: METAL, pci bus id: <undefined>)\n",
      "WARNING:absl:At this time, the v2.11+ optimizer `tf.keras.optimizers.RMSprop` runs slowly on M1/M2 Macs, please use the legacy Keras optimizer instead, located at `tf.keras.optimizers.legacy.RMSprop`.\n",
      "WARNING:absl:There is a known slowdown when using v2.11+ Keras optimizers on M1/M2 Macs. Falling back to the legacy Keras optimizer, i.e., `tf.keras.optimizers.legacy.RMSprop`.\n"
     ]
    }
   ],
   "source": [
    "comments_updater = LiveYouTubeComments()\n",
    "\n",
    "live_urls = [\n",
    "    'https://www.youtube.com/watch?v=36YnV9STBqc',\n",
    "]"
   ]
  },
  {
   "cell_type": "code",
   "execution_count": 4,
   "metadata": {},
   "outputs": [
    {
     "name": "stdout",
     "output_type": "stream",
     "text": [
      "DELETE : <Response [403]>\n"
     ]
    }
   ],
   "source": [
    "url_delete = \"https://api.powerbi.com/v1.0/myorg/datasets/{datasetId}/tables/{tableName}/rows\"\n",
    "headers_delete = {\n",
    "    \"Authorization\": \"Bearer XXXX \"\n",
    "}\n",
    "\n",
    "deleteResponse = requests.delete(url_delete, headers=headers_delete)\n",
    "print(f\"DELETE : {deleteResponse}\")\n",
    "\n",
    "if deleteResponse.status_code == 200:\n",
    "    df = pd.read_csv(\"../Data/LiveYT/liveComments.csv\", sep=';')\n",
    "    df.drop(df.index, inplace=True)\n",
    "    df.to_csv('../Data/LiveYT/liveComments.csv', sep=';', index=False)"
   ]
  },
  {
   "cell_type": "code",
   "execution_count": 5,
   "metadata": {},
   "outputs": [
    {
     "name": "stderr",
     "output_type": "stream",
     "text": [
      "2023-07-24 15:56:16.636817: I tensorflow/core/grappler/optimizers/custom_graph_optimizer_registry.cc:114] Plugin optimizer for device_type GPU is enabled.\n"
     ]
    },
    {
     "name": "stdout",
     "output_type": "stream",
     "text": [
      "1/1 [==============================] - 4s 4s/step\n",
      "[{'comment': 'oye em baadalu unnayi mowa 🤔😂😂', 'date': '2023-07-24T13:54:31.593468+00:00', 'user': 'UCf_xfhfIocJ_TeRvt6wwPrQ', 'hate': 1, 'no_hate': 0, 'number_hate': 0, 'number_noHate': 5, 'group': 'hate', 'count': 5}]\n",
      "POST : <Response [200]>\n",
      "1/1 [==============================] - 3s 3s/step\n",
      "[{'comment': 'music sunti ho kya', 'date': '2023-07-24T13:54:40.407968+00:00', 'user': 'UChiycYOI9FQ3tTqnmFy0uzw', 'hate': 0, 'no_hate': 1, 'number_hate': 2, 'number_noHate': 4, 'group': 'hate', 'count': 6}]\n",
      "POST : <Response [200]>\n",
      "1/1 [==============================] - 3s 3s/step\n",
      "[{'comment': '🎵🎶', 'date': '2023-07-24T13:54:48.204651+00:00', 'user': 'UCS-96wasdC3HgIgqapC0lSQ', 'hate': 0, 'no_hate': 1, 'number_hate': 2, 'number_noHate': 5, 'group': 'hate', 'count': 7}]\n",
      "POST : <Response [200]>\n",
      "1/1 [==============================] - 3s 3s/step\n",
      "[{'comment': 'piak ikan wd', 'date': '2023-07-24T13:55:06.252588+00:00', 'user': 'UCgg8yKtcrVrcFHcok-XSkXQ', 'hate': 0, 'no_hate': 1, 'number_hate': 2, 'number_noHate': 6, 'group': 'hate', 'count': 8}]\n",
      "POST : <Response [200]>\n",
      "1/1 [==============================] - 3s 3s/step\n",
      "[{'comment': 'Xittt', 'date': '2023-07-24T13:55:14.064378+00:00', 'user': 'UCzjpWxgQAKsrrXRL7YU5JLg', 'hate': 0, 'no_hate': 1, 'number_hate': 2, 'number_noHate': 7, 'group': 'hate', 'count': 9}]\n",
      "POST : <Response [200]>\n",
      "1/1 [==============================] - 3s 3s/step\n",
      "[{'comment': ':cat-orange-whistling:', 'date': '2023-07-24T13:55:24.85714+00:00', 'user': 'UCFYXW8PjGx3s5F0HaMfCZhw', 'hate': 0, 'no_hate': 1, 'number_hate': 2, 'number_noHate': 8, 'group': 'hate', 'count': 10}]\n",
      "POST : <Response [200]>\n",
      "1/1 [==============================] - 3s 3s/step\n",
      "[{'comment': '🤑💵🤑💸🤑💰paise bnao paise! 🤪', 'date': '2023-07-24T13:55:29.24301+00:00', 'user': 'UC54rYOPO5THlEmLr2hAeQRw', 'hate': 0, 'no_hate': 1, 'number_hate': 2, 'number_noHate': 9, 'group': 'hate', 'count': 11}]\n",
      "POST : <Response [200]>\n",
      "1/1 [==============================] - 3s 3s/step\n",
      "[{'comment': 'العراق وانت', 'date': '2023-07-24T13:55:42.209574+00:00', 'user': 'UCGsArAfzIRerkX0cZjSFKEw', 'hate': 0, 'no_hate': 1, 'number_hate': 2, 'number_noHate': 10, 'group': 'hate', 'count': 12}]\n",
      "POST : <Response [200]>\n",
      "1/1 [==============================] - 3s 3s/step\n",
      "[{'comment': 'assignment complete kr liya', 'date': '2023-07-24T13:55:53.14952+00:00', 'user': 'UCFYXW8PjGx3s5F0HaMfCZhw', 'hate': 0, 'no_hate': 1, 'number_hate': 2, 'number_noHate': 11, 'group': 'hate', 'count': 13}]\n",
      "POST : <Response [200]>\n"
     ]
    },
    {
     "ename": "KeyboardInterrupt",
     "evalue": "",
     "output_type": "error",
     "traceback": [
      "\u001b[0;31m---------------------------------------------------------------------------\u001b[0m",
      "\u001b[0;31mKeyboardInterrupt\u001b[0m                         Traceback (most recent call last)",
      "Cell \u001b[0;32mIn[5], line 20\u001b[0m\n\u001b[1;32m     12\u001b[0m response \u001b[39m=\u001b[39m requests\u001b[39m.\u001b[39mrequest(\n\u001b[1;32m     13\u001b[0m     method\u001b[39m=\u001b[39m\u001b[39m\"\u001b[39m\u001b[39mPOST\u001b[39m\u001b[39m\"\u001b[39m,\n\u001b[1;32m     14\u001b[0m     url\u001b[39m=\u001b[39murl,\n\u001b[1;32m     15\u001b[0m     headers\u001b[39m=\u001b[39mheaders,\n\u001b[1;32m     16\u001b[0m     data\u001b[39m=\u001b[39mjson\u001b[39m.\u001b[39mdumps(data)\n\u001b[1;32m     17\u001b[0m )\n\u001b[1;32m     18\u001b[0m \u001b[39mprint\u001b[39m(\u001b[39mf\u001b[39m\u001b[39m\"\u001b[39m\u001b[39mPOST : \u001b[39m\u001b[39m{\u001b[39;00mresponse\u001b[39m}\u001b[39;00m\u001b[39m\"\u001b[39m)\n\u001b[0;32m---> 20\u001b[0m time\u001b[39m.\u001b[39msleep(\u001b[39m10\u001b[39m)\n",
      "\u001b[0;31mKeyboardInterrupt\u001b[0m: "
     ]
    }
   ],
   "source": [
    "# copy \"Push URL\" from \"API Info\" in Power BI\n",
    "url = \"powerBI/URL\"\n",
    "\n",
    "while True:\n",
    "    data = comments_updater.update_comments(live_urls, limit=1)\n",
    "\n",
    "    print(data)\n",
    "    # post/push data to the streaming API\n",
    "    headers = {\n",
    "        \"Content-Type\": \"application/json\"\n",
    "        }\n",
    "    response = requests.request(\n",
    "        method=\"POST\",\n",
    "        url=url,\n",
    "        headers=headers,\n",
    "        data=json.dumps(data)\n",
    "    )\n",
    "    print(f\"POST : {response}\")2\n"
   ]
  }
 ],
 "metadata": {
  "kernelspec": {
   "display_name": "Python 3",
   "language": "python",
   "name": "python3"
  },
  "language_info": {
   "codemirror_mode": {
    "name": "ipython",
    "version": 3
   },
   "file_extension": ".py",
   "mimetype": "text/x-python",
   "name": "python",
   "nbconvert_exporter": "python",
   "pygments_lexer": "ipython3",
   "version": "3.11.4"
  },
  "orig_nbformat": 4
 },
 "nbformat": 4,
 "nbformat_minor": 2
}
